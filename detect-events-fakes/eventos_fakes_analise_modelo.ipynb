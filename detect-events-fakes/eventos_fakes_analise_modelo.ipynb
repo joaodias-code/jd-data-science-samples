{
 "cells": [
  {
   "cell_type": "markdown",
   "metadata": {},
   "source": [
    "Dataset de eventos fakes:\n",
    "\n",
    "| Campos         | Descrição                                                                           |\n",
    "|----------------|---------------------------------------------------------------------------------------|\n",
    "| id             | Id do evento.                                                                         |\n",
    "| titulo         | Título do evento.                                                                      |\n",
    "| descricao      | Descrição do evento.                                                                  |\n",
    "| apenas_ingressos_gratis  | Determina se o evento possui apenas ingressos grátis. |\n",
    "| tem_banner     | Evento tem banner cadastrado.                                        |\n",
    "| endereco_evento  | Endereco do evento.                                                          |\n",
    "| ip             | IP do local de criação do evento.                                                      |\n",
    "| dt_criacao        | Data de criação do evento.                                                         |\n",
    "| dt_publicacao        | Data de publicacao do evento.                                                         |\n",
    "| dt_inicio_evento  | Data de início do evento.                                                              |\n",
    "| dt_fim_evento     | Data de fim do evento.                                                               |\n",
    "| categoria      | Categoria do evento.                                                               |\n",
    "| tipo_moeda     | Tipo de moeda do evento.                                                               |\n",
    "| possui_organizador_pagina     | Indica se a página do evento tem o contato do organizador.              |\n",
    "| produtor_novo  | Indica se é o primeiro evento do produtor.                                             |\n",
    "| produtor_ja_fez_vendas_pagas  | Indica se o produtor já vendeu ingresso pago.                         |\n",
    "| fake           | Indica se o evento é fake ou não                                                     |\n"
   ]
  },
  {
   "cell_type": "markdown",
   "metadata": {},
   "source": [
    "Criação do dataset:\n",
    "- Estudar e verificar as features já utilizadas (modelo de dataset).\n",
    "- Criar o \"select\" para gerar o dataset.\n",
    "- Gerar o arquivo CSV.\n",
    "\n",
    "Analise exploratória:\n",
    "- Limpeza dos campos.\n",
    "- Análise das features: correlação e geração de novas features.\n",
    "- Selecionar as features para o modelo.\n",
    "\n",
    "Testar os modelos de classificação:\n",
    "- Determinar quais modelos serão testados.\n",
    "- Executar os modelos.\n",
    "- Tunar os modelos.\n",
    "- Definir qual a melhor métrica para aplicar.\n",
    "- Comparar as métricas.\n"
   ]
  }
 ],
 "metadata": {
  "kernelspec": {
   "display_name": "Python 3",
   "language": "python",
   "name": "python3"
  },
  "language_info": {
   "codemirror_mode": {
    "name": "ipython",
    "version": 3
   },
   "file_extension": ".py",
   "mimetype": "text/x-python",
   "name": "python",
   "nbconvert_exporter": "python",
   "pygments_lexer": "ipython3",
   "version": "3.7.7"
  }
 },
 "nbformat": 4,
 "nbformat_minor": 4
}
