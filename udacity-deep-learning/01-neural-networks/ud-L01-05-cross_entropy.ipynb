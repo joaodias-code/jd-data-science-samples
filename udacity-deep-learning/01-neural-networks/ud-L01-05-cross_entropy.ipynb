{
 "cells": [
  {
   "cell_type": "code",
   "execution_count": 2,
   "metadata": {},
   "outputs": [
    {
     "name": "stdout",
     "output_type": "stream",
     "text": [
      "0.6851790109107685\n",
      "5.115995809754082\n"
     ]
    }
   ],
   "source": [
    "import numpy as np\n",
    "\n",
    "# Write a function that takes as input two lists Y, P,\n",
    "# and returns the float corresponding to their cross-entropy.\n",
    "def cross_entropy(Y, P):\n",
    "    result = 0\n",
    "    for i in range(len(Y)):\n",
    "        result += -1*(Y[i]*np.log(P[i]) + ((1-Y[i])*np.log(1-P[i])))\n",
    "    return result\n",
    "\n",
    "print(cross_entropy([1, 1, 0], [0.8, 0.7, 0.1]))\n",
    "print(cross_entropy([0, 0, 1], [0.8, 0.7, 0.1]))"
   ]
  }
 ],
 "metadata": {
  "kernelspec": {
   "display_name": "Python 3",
   "language": "python",
   "name": "python3"
  },
  "language_info": {
   "codemirror_mode": {
    "name": "ipython",
    "version": 3
   },
   "file_extension": ".py",
   "mimetype": "text/x-python",
   "name": "python",
   "nbconvert_exporter": "python",
   "pygments_lexer": "ipython3",
   "version": "3.7.6"
  }
 },
 "nbformat": 4,
 "nbformat_minor": 4
}
