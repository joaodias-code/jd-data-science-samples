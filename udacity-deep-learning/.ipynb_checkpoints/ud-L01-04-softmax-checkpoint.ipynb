{
 "cells": [
  {
   "cell_type": "code",
   "execution_count": 10,
   "metadata": {},
   "outputs": [
    {
     "data": {
      "text/plain": [
       "[0.0015683003158864727,\n",
       " 0.004263082250240779,\n",
       " 0.011588259014055805,\n",
       " 0.03150015390138463,\n",
       " 0.08562629594379713,\n",
       " 0.23275640430228017,\n",
       " 0.632697504272355]"
      ]
     },
     "execution_count": 10,
     "metadata": {},
     "output_type": "execute_result"
    }
   ],
   "source": [
    "import numpy as np\n",
    "import math\n",
    "\n",
    "# Write a function that takes as input a list of numbers, and returns\n",
    "# the list of values given by the softmax function.\n",
    "def softmax(L):\n",
    "    L_exp = []\n",
    "    exp_numbers = np.exp(L)\n",
    "    for index in range(len(exp_numbers)):\n",
    "        L_exp.append(exp_numbers[index] / np.sum(exp_numbers))\n",
    "    return L_exp"
   ]
  }
 ],
 "metadata": {
  "kernelspec": {
   "display_name": "Python 3",
   "language": "python",
   "name": "python3"
  },
  "language_info": {
   "codemirror_mode": {
    "name": "ipython",
    "version": 3
   },
   "file_extension": ".py",
   "mimetype": "text/x-python",
   "name": "python",
   "nbconvert_exporter": "python",
   "pygments_lexer": "ipython3",
   "version": "3.7.6"
  }
 },
 "nbformat": 4,
 "nbformat_minor": 4
}
